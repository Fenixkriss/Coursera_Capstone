{
  "nbformat": 4,
  "nbformat_minor": 0,
  "metadata": {
    "kernelspec": {
      "display_name": "Python 3",
      "language": "python",
      "name": "python3"
    },
    "language_info": {
      "codemirror_mode": {
        "name": "ipython",
        "version": 3
      },
      "file_extension": ".py",
      "mimetype": "text/x-python",
      "name": "python",
      "nbconvert_exporter": "python",
      "pygments_lexer": "ipython3",
      "version": "3.6.5"
    },
    "colab": {
      "name": "Segmenting_and_Clustering_Neighborhoods_in_Toronto_part2.ipynb",
      "provenance": [],
      "collapsed_sections": [],
      "toc_visible": true,
      "include_colab_link": true
    }
  },
  "cells": [
    {
      "cell_type": "markdown",
      "metadata": {
        "id": "view-in-github",
        "colab_type": "text"
      },
      "source": [
        "<a href=\"https://colab.research.google.com/github/Fenixkriss/Coursera_Capstone/blob/master/Segmenting_and_Clustering_Neighborhoods_in_Toronto_part3.ipynb\" target=\"_parent\"><img src=\"https://colab.research.google.com/assets/colab-badge.svg\" alt=\"Open In Colab\"/></a>"
      ]
    },
    {
      "cell_type": "markdown",
      "metadata": {
        "id": "hrV23bmTUwWR",
        "colab_type": "text"
      },
      "source": [
        "## Segmenting and Clustering Neighborhoods in Toronto. Final Assignment\n",
        "# Part 1 & 2 & 3\n"
      ]
    },
    {
      "cell_type": "markdown",
      "metadata": {
        "id": "euewqVcBlk3t",
        "colab_type": "text"
      },
      "source": [
        "## Part 1. Scrape data from Wiki page and create a Dataframe with Postal Codes of Canada."
      ]
    },
    {
      "cell_type": "markdown",
      "metadata": {
        "id": "d6HdJS90UwWS",
        "colab_type": "text"
      },
      "source": [
        "Import Libraries"
      ]
    },
    {
      "cell_type": "code",
      "metadata": {
        "id": "VvJx3vOkUwWT",
        "colab_type": "code",
        "colab": {}
      },
      "source": [
        "from bs4 import BeautifulSoup\n",
        "import requests\n",
        "import pandas as pd"
      ],
      "execution_count": 0,
      "outputs": []
    },
    {
      "cell_type": "markdown",
      "metadata": {
        "id": "_HQ0G2fMUwWX",
        "colab_type": "text"
      },
      "source": [
        "Scrap Table with List of postal codes of Canada using BeautifulSoup"
      ]
    },
    {
      "cell_type": "code",
      "metadata": {
        "id": "vRaBt-JAUwWY",
        "colab_type": "code",
        "colab": {}
      },
      "source": [
        "# download url data from internet\n",
        "url = \"https://en.wikipedia.org/wiki/List_of_postal_codes_of_Canada:_M\"\n",
        "source = requests.get(url).text\n",
        "Canada_data = BeautifulSoup(source, 'lxml')"
      ],
      "execution_count": 0,
      "outputs": []
    },
    {
      "cell_type": "markdown",
      "metadata": {
        "id": "4gskT_4QUwWc",
        "colab_type": "text"
      },
      "source": [
        "Convert content to Dataframe"
      ]
    },
    {
      "cell_type": "code",
      "metadata": {
        "id": "Fd_ATKfuUwWc",
        "colab_type": "code",
        "outputId": "a7f0521f-5fc1-4016-c10d-d6fa82ebec9b",
        "colab": {
          "base_uri": "https://localhost:8080/",
          "height": 34
        }
      },
      "source": [
        "# creat a new Dataframe\n",
        "column_names = ['Postalcode','Borough','Neighborhood']\n",
        "toronto = pd.DataFrame(columns = column_names)\n",
        "\n",
        "#loop through to find postcode, borough, neighborhood \n",
        "content = Canada_data.find('div', class_='mw-parser-output')\n",
        "table = content.table.tbody\n",
        "postcode = 0\n",
        "borough = 0\n",
        "neighborhood = 0\n",
        "\n",
        "for tr in table.find_all('tr'):\n",
        "    i = 0\n",
        "    for td in tr.find_all('td'):\n",
        "        if i == 0:\n",
        "            postcode = td.text.strip('\\n')\n",
        "            i = i + 1\n",
        "        elif i == 1:\n",
        "            borough = td.text.strip('\\n')\n",
        "            i = i + 1\n",
        "        elif i == 2: \n",
        "            neighborhood = td.text.strip('\\n').replace(']','')\n",
        "    toronto = toronto.append({'Postalcode': postcode,'Borough': borough,'Neighborhood': neighborhood},ignore_index=True)\n",
        "\n",
        "# clean dataframe \n",
        "toronto = toronto[toronto.Borough!='Not assigned']\n",
        "toronto = toronto[toronto.Borough!= 0]\n",
        "toronto.reset_index(drop = True, inplace = True)\n",
        "i = 0\n",
        "for i in range(0,toronto.shape[0]):\n",
        "    if toronto.iloc[i][2] == 'Not assigned':\n",
        "        toronto.iloc[i][2] = toronto.iloc[i][1]\n",
        "        i = i+1\n",
        "                                 \n",
        "df = toronto.groupby(['Postalcode','Borough'])['Neighborhood'].apply(', '.join).reset_index()\n",
        "df.shape"
      ],
      "execution_count": 3,
      "outputs": [
        {
          "output_type": "execute_result",
          "data": {
            "text/plain": [
              "(103, 3)"
            ]
          },
          "metadata": {
            "tags": []
          },
          "execution_count": 3
        }
      ]
    },
    {
      "cell_type": "markdown",
      "metadata": {
        "id": "nXdu8ZVaUwWh",
        "colab_type": "text"
      },
      "source": [
        "## Cleaning the Data \n",
        "Drop \"None\" rows in DataFrame\n",
        "\n",
        "Drop any row which contains 'Not assigned' value\n",
        "\n",
        "Replace all \"Not assigned\" to 'NaN'"
      ]
    },
    {
      "cell_type": "code",
      "metadata": {
        "id": "5n_gybdHUwWh",
        "colab_type": "code",
        "colab": {}
      },
      "source": [
        "df = df.dropna()\n",
        "empty = 'Not assigned'\n",
        "df = df[(df.Postalcode != empty ) & (df.Borough != empty) & (df.Neighborhood != empty)]"
      ],
      "execution_count": 0,
      "outputs": []
    },
    {
      "cell_type": "code",
      "metadata": {
        "id": "Rbr-8nLnUwWk",
        "colab_type": "code",
        "outputId": "877e9e0c-08f5-48e0-f96c-2f28df87877e",
        "colab": {
          "base_uri": "https://localhost:8080/",
          "height": 266
        }
      },
      "source": [
        "df.head(7)"
      ],
      "execution_count": 5,
      "outputs": [
        {
          "output_type": "execute_result",
          "data": {
            "text/html": [
              "<div>\n",
              "<style scoped>\n",
              "    .dataframe tbody tr th:only-of-type {\n",
              "        vertical-align: middle;\n",
              "    }\n",
              "\n",
              "    .dataframe tbody tr th {\n",
              "        vertical-align: top;\n",
              "    }\n",
              "\n",
              "    .dataframe thead th {\n",
              "        text-align: right;\n",
              "    }\n",
              "</style>\n",
              "<table border=\"1\" class=\"dataframe\">\n",
              "  <thead>\n",
              "    <tr style=\"text-align: right;\">\n",
              "      <th></th>\n",
              "      <th>Postalcode</th>\n",
              "      <th>Borough</th>\n",
              "      <th>Neighborhood</th>\n",
              "    </tr>\n",
              "  </thead>\n",
              "  <tbody>\n",
              "    <tr>\n",
              "      <th>0</th>\n",
              "      <td>M1B</td>\n",
              "      <td>Scarborough</td>\n",
              "      <td>Malvern, Rouge</td>\n",
              "    </tr>\n",
              "    <tr>\n",
              "      <th>1</th>\n",
              "      <td>M1C</td>\n",
              "      <td>Scarborough</td>\n",
              "      <td>Rouge Hill, Port Union, Highland Creek</td>\n",
              "    </tr>\n",
              "    <tr>\n",
              "      <th>2</th>\n",
              "      <td>M1E</td>\n",
              "      <td>Scarborough</td>\n",
              "      <td>Guildwood, Morningside, West Hill</td>\n",
              "    </tr>\n",
              "    <tr>\n",
              "      <th>3</th>\n",
              "      <td>M1G</td>\n",
              "      <td>Scarborough</td>\n",
              "      <td>Woburn</td>\n",
              "    </tr>\n",
              "    <tr>\n",
              "      <th>4</th>\n",
              "      <td>M1H</td>\n",
              "      <td>Scarborough</td>\n",
              "      <td>Cedarbrae</td>\n",
              "    </tr>\n",
              "    <tr>\n",
              "      <th>5</th>\n",
              "      <td>M1J</td>\n",
              "      <td>Scarborough</td>\n",
              "      <td>Scarborough Village</td>\n",
              "    </tr>\n",
              "    <tr>\n",
              "      <th>6</th>\n",
              "      <td>M1K</td>\n",
              "      <td>Scarborough</td>\n",
              "      <td>Kennedy Park, Ionview, East Birchmount Park</td>\n",
              "    </tr>\n",
              "  </tbody>\n",
              "</table>\n",
              "</div>"
            ],
            "text/plain": [
              "  Postalcode      Borough                                 Neighborhood\n",
              "0        M1B  Scarborough                               Malvern, Rouge\n",
              "1        M1C  Scarborough       Rouge Hill, Port Union, Highland Creek\n",
              "2        M1E  Scarborough            Guildwood, Morningside, West Hill\n",
              "3        M1G  Scarborough                                       Woburn\n",
              "4        M1H  Scarborough                                    Cedarbrae\n",
              "5        M1J  Scarborough                          Scarborough Village\n",
              "6        M1K  Scarborough  Kennedy Park, Ionview, East Birchmount Park"
            ]
          },
          "metadata": {
            "tags": []
          },
          "execution_count": 5
        }
      ]
    },
    {
      "cell_type": "code",
      "metadata": {
        "id": "3vjVB_IOUwWn",
        "colab_type": "code",
        "colab": {}
      },
      "source": [
        "def neighborhood_list(grouped):    \n",
        "    return ', '.join(sorted(grouped['Neighborhood'].tolist()))\n",
        "                    \n",
        "grp = df.groupby(['Postalcode', 'Borough'])\n",
        "df2 = grp.apply(neighborhood_list).reset_index(name='Neighborhood')"
      ],
      "execution_count": 0,
      "outputs": []
    },
    {
      "cell_type": "code",
      "metadata": {
        "id": "wU0BEdAYUwWq",
        "colab_type": "code",
        "outputId": "6ff27673-47bd-49d5-e16c-6db9a997a3bc",
        "colab": {
          "base_uri": "https://localhost:8080/",
          "height": 283
        }
      },
      "source": [
        "print(df2.shape)\n",
        "df2.head(7)"
      ],
      "execution_count": 7,
      "outputs": [
        {
          "output_type": "stream",
          "text": [
            "(103, 3)\n"
          ],
          "name": "stdout"
        },
        {
          "output_type": "execute_result",
          "data": {
            "text/html": [
              "<div>\n",
              "<style scoped>\n",
              "    .dataframe tbody tr th:only-of-type {\n",
              "        vertical-align: middle;\n",
              "    }\n",
              "\n",
              "    .dataframe tbody tr th {\n",
              "        vertical-align: top;\n",
              "    }\n",
              "\n",
              "    .dataframe thead th {\n",
              "        text-align: right;\n",
              "    }\n",
              "</style>\n",
              "<table border=\"1\" class=\"dataframe\">\n",
              "  <thead>\n",
              "    <tr style=\"text-align: right;\">\n",
              "      <th></th>\n",
              "      <th>Postalcode</th>\n",
              "      <th>Borough</th>\n",
              "      <th>Neighborhood</th>\n",
              "    </tr>\n",
              "  </thead>\n",
              "  <tbody>\n",
              "    <tr>\n",
              "      <th>0</th>\n",
              "      <td>M1B</td>\n",
              "      <td>Scarborough</td>\n",
              "      <td>Malvern, Rouge</td>\n",
              "    </tr>\n",
              "    <tr>\n",
              "      <th>1</th>\n",
              "      <td>M1C</td>\n",
              "      <td>Scarborough</td>\n",
              "      <td>Rouge Hill, Port Union, Highland Creek</td>\n",
              "    </tr>\n",
              "    <tr>\n",
              "      <th>2</th>\n",
              "      <td>M1E</td>\n",
              "      <td>Scarborough</td>\n",
              "      <td>Guildwood, Morningside, West Hill</td>\n",
              "    </tr>\n",
              "    <tr>\n",
              "      <th>3</th>\n",
              "      <td>M1G</td>\n",
              "      <td>Scarborough</td>\n",
              "      <td>Woburn</td>\n",
              "    </tr>\n",
              "    <tr>\n",
              "      <th>4</th>\n",
              "      <td>M1H</td>\n",
              "      <td>Scarborough</td>\n",
              "      <td>Cedarbrae</td>\n",
              "    </tr>\n",
              "    <tr>\n",
              "      <th>5</th>\n",
              "      <td>M1J</td>\n",
              "      <td>Scarborough</td>\n",
              "      <td>Scarborough Village</td>\n",
              "    </tr>\n",
              "    <tr>\n",
              "      <th>6</th>\n",
              "      <td>M1K</td>\n",
              "      <td>Scarborough</td>\n",
              "      <td>Kennedy Park, Ionview, East Birchmount Park</td>\n",
              "    </tr>\n",
              "  </tbody>\n",
              "</table>\n",
              "</div>"
            ],
            "text/plain": [
              "  Postalcode      Borough                                 Neighborhood\n",
              "0        M1B  Scarborough                               Malvern, Rouge\n",
              "1        M1C  Scarborough       Rouge Hill, Port Union, Highland Creek\n",
              "2        M1E  Scarborough            Guildwood, Morningside, West Hill\n",
              "3        M1G  Scarborough                                       Woburn\n",
              "4        M1H  Scarborough                                    Cedarbrae\n",
              "5        M1J  Scarborough                          Scarborough Village\n",
              "6        M1K  Scarborough  Kennedy Park, Ionview, East Birchmount Park"
            ]
          },
          "metadata": {
            "tags": []
          },
          "execution_count": 7
        }
      ]
    },
    {
      "cell_type": "markdown",
      "metadata": {
        "id": "bA7THclaiLZE",
        "colab_type": "text"
      },
      "source": [
        "## Part 2. Supplementing data frame with coordinates"
      ]
    },
    {
      "cell_type": "markdown",
      "metadata": {
        "id": "1By8WtIgiuAV",
        "colab_type": "text"
      },
      "source": [
        "Import Geocoder"
      ]
    },
    {
      "cell_type": "code",
      "metadata": {
        "id": "WXmOpLNRijU2",
        "colab_type": "code",
        "outputId": "9ca614b9-7beb-4cbf-bc62-49a9b244e3f6",
        "colab": {
          "base_uri": "https://localhost:8080/",
          "height": 289
        }
      },
      "source": [
        "!pip install geocoder"
      ],
      "execution_count": 8,
      "outputs": [
        {
          "output_type": "stream",
          "text": [
            "Collecting geocoder\n",
            "\u001b[?25l  Downloading https://files.pythonhosted.org/packages/4f/6b/13166c909ad2f2d76b929a4227c952630ebaf0d729f6317eb09cbceccbab/geocoder-1.38.1-py2.py3-none-any.whl (98kB)\n",
            "\r\u001b[K     |███▎                            | 10kB 20.3MB/s eta 0:00:01\r\u001b[K     |██████▋                         | 20kB 2.1MB/s eta 0:00:01\r\u001b[K     |██████████                      | 30kB 2.7MB/s eta 0:00:01\r\u001b[K     |█████████████▎                  | 40kB 2.0MB/s eta 0:00:01\r\u001b[K     |████████████████▋               | 51kB 2.2MB/s eta 0:00:01\r\u001b[K     |████████████████████            | 61kB 2.6MB/s eta 0:00:01\r\u001b[K     |███████████████████████▎        | 71kB 2.8MB/s eta 0:00:01\r\u001b[K     |██████████████████████████▋     | 81kB 3.0MB/s eta 0:00:01\r\u001b[K     |██████████████████████████████  | 92kB 3.3MB/s eta 0:00:01\r\u001b[K     |████████████████████████████████| 102kB 2.9MB/s \n",
            "\u001b[?25hRequirement already satisfied: future in /usr/local/lib/python3.6/dist-packages (from geocoder) (0.16.0)\n",
            "Requirement already satisfied: requests in /usr/local/lib/python3.6/dist-packages (from geocoder) (2.23.0)\n",
            "Requirement already satisfied: six in /usr/local/lib/python3.6/dist-packages (from geocoder) (1.12.0)\n",
            "Requirement already satisfied: click in /usr/local/lib/python3.6/dist-packages (from geocoder) (7.1.2)\n",
            "Collecting ratelim\n",
            "  Downloading https://files.pythonhosted.org/packages/f2/98/7e6d147fd16a10a5f821db6e25f192265d6ecca3d82957a4fdd592cad49c/ratelim-0.1.6-py2.py3-none-any.whl\n",
            "Requirement already satisfied: idna<3,>=2.5 in /usr/local/lib/python3.6/dist-packages (from requests->geocoder) (2.9)\n",
            "Requirement already satisfied: urllib3!=1.25.0,!=1.25.1,<1.26,>=1.21.1 in /usr/local/lib/python3.6/dist-packages (from requests->geocoder) (1.24.3)\n",
            "Requirement already satisfied: certifi>=2017.4.17 in /usr/local/lib/python3.6/dist-packages (from requests->geocoder) (2020.4.5.1)\n",
            "Requirement already satisfied: chardet<4,>=3.0.2 in /usr/local/lib/python3.6/dist-packages (from requests->geocoder) (3.0.4)\n",
            "Requirement already satisfied: decorator in /usr/local/lib/python3.6/dist-packages (from ratelim->geocoder) (4.4.2)\n",
            "Installing collected packages: ratelim, geocoder\n",
            "Successfully installed geocoder-1.38.1 ratelim-0.1.6\n"
          ],
          "name": "stdout"
        }
      ]
    },
    {
      "cell_type": "code",
      "metadata": {
        "id": "AEh2GCcziN5b",
        "colab_type": "code",
        "colab": {}
      },
      "source": [
        "import geocoder"
      ],
      "execution_count": 0,
      "outputs": []
    },
    {
      "cell_type": "code",
      "metadata": {
        "id": "UqWW7-LuiWrq",
        "colab_type": "code",
        "colab": {}
      },
      "source": [
        "def get_latlng(postal_code):\n",
        "    # initialize your variable to None\n",
        "    lat_lng_coords = None\n",
        "    # loop until you get the coordinates\n",
        "    while(lat_lng_coords is None):\n",
        "        g = geocoder.arcgis('{}, Toronto, Ontario'.format(postal_code))\n",
        "        lat_lng_coords = g.latlng\n",
        "    return lat_lng_coords"
      ],
      "execution_count": 0,
      "outputs": []
    },
    {
      "cell_type": "code",
      "metadata": {
        "id": "Mn1tUJ1xi58d",
        "colab_type": "code",
        "outputId": "f820642b-61cc-478c-84a3-4fb1eb734da2",
        "colab": {
          "base_uri": "https://localhost:8080/",
          "height": 34
        }
      },
      "source": [
        "# testing    \n",
        "get_latlng('M6Z')"
      ],
      "execution_count": 11,
      "outputs": [
        {
          "output_type": "execute_result",
          "data": {
            "text/plain": [
              "[43.648690000000045, -79.38543999999996]"
            ]
          },
          "metadata": {
            "tags": []
          },
          "execution_count": 11
        }
      ]
    },
    {
      "cell_type": "markdown",
      "metadata": {
        "id": "WeAWpgJ4jZQ5",
        "colab_type": "text"
      },
      "source": [
        "Its works well. But for the sake of similarity, I will use geospatial data supply by course."
      ]
    },
    {
      "cell_type": "code",
      "metadata": {
        "id": "Q3Vs0egNjYYa",
        "colab_type": "code",
        "outputId": "f1c1fb70-217b-45ad-cdc6-c024aa4bfbb4",
        "colab": {
          "base_uri": "https://localhost:8080/",
          "height": 266
        }
      },
      "source": [
        "geo_df=pd.read_csv('http://cocl.us/Geospatial_data')\n",
        "geo_df.head(7)"
      ],
      "execution_count": 12,
      "outputs": [
        {
          "output_type": "execute_result",
          "data": {
            "text/html": [
              "<div>\n",
              "<style scoped>\n",
              "    .dataframe tbody tr th:only-of-type {\n",
              "        vertical-align: middle;\n",
              "    }\n",
              "\n",
              "    .dataframe tbody tr th {\n",
              "        vertical-align: top;\n",
              "    }\n",
              "\n",
              "    .dataframe thead th {\n",
              "        text-align: right;\n",
              "    }\n",
              "</style>\n",
              "<table border=\"1\" class=\"dataframe\">\n",
              "  <thead>\n",
              "    <tr style=\"text-align: right;\">\n",
              "      <th></th>\n",
              "      <th>Postal Code</th>\n",
              "      <th>Latitude</th>\n",
              "      <th>Longitude</th>\n",
              "    </tr>\n",
              "  </thead>\n",
              "  <tbody>\n",
              "    <tr>\n",
              "      <th>0</th>\n",
              "      <td>M1B</td>\n",
              "      <td>43.806686</td>\n",
              "      <td>-79.194353</td>\n",
              "    </tr>\n",
              "    <tr>\n",
              "      <th>1</th>\n",
              "      <td>M1C</td>\n",
              "      <td>43.784535</td>\n",
              "      <td>-79.160497</td>\n",
              "    </tr>\n",
              "    <tr>\n",
              "      <th>2</th>\n",
              "      <td>M1E</td>\n",
              "      <td>43.763573</td>\n",
              "      <td>-79.188711</td>\n",
              "    </tr>\n",
              "    <tr>\n",
              "      <th>3</th>\n",
              "      <td>M1G</td>\n",
              "      <td>43.770992</td>\n",
              "      <td>-79.216917</td>\n",
              "    </tr>\n",
              "    <tr>\n",
              "      <th>4</th>\n",
              "      <td>M1H</td>\n",
              "      <td>43.773136</td>\n",
              "      <td>-79.239476</td>\n",
              "    </tr>\n",
              "    <tr>\n",
              "      <th>5</th>\n",
              "      <td>M1J</td>\n",
              "      <td>43.744734</td>\n",
              "      <td>-79.239476</td>\n",
              "    </tr>\n",
              "    <tr>\n",
              "      <th>6</th>\n",
              "      <td>M1K</td>\n",
              "      <td>43.727929</td>\n",
              "      <td>-79.262029</td>\n",
              "    </tr>\n",
              "  </tbody>\n",
              "</table>\n",
              "</div>"
            ],
            "text/plain": [
              "  Postal Code   Latitude  Longitude\n",
              "0         M1B  43.806686 -79.194353\n",
              "1         M1C  43.784535 -79.160497\n",
              "2         M1E  43.763573 -79.188711\n",
              "3         M1G  43.770992 -79.216917\n",
              "4         M1H  43.773136 -79.239476\n",
              "5         M1J  43.744734 -79.239476\n",
              "6         M1K  43.727929 -79.262029"
            ]
          },
          "metadata": {
            "tags": []
          },
          "execution_count": 12
        }
      ]
    },
    {
      "cell_type": "code",
      "metadata": {
        "id": "2xutEKuZlEid",
        "colab_type": "code",
        "colab": {}
      },
      "source": [
        "geo_df.rename(columns={'Postal Code':'Postalcode'},inplace=True)\n",
        "geo_merged = pd.merge(geo_df, df2, on='Postalcode')"
      ],
      "execution_count": 0,
      "outputs": []
    },
    {
      "cell_type": "code",
      "metadata": {
        "id": "QeBAytPClK7M",
        "colab_type": "code",
        "outputId": "c6259d51-f33e-464c-dd92-508a6c6e6ff2",
        "colab": {
          "base_uri": "https://localhost:8080/",
          "height": 266
        }
      },
      "source": [
        "df3=geo_merged[['Postalcode','Borough','Neighborhood','Latitude','Longitude']]\n",
        "df3.head(7)"
      ],
      "execution_count": 14,
      "outputs": [
        {
          "output_type": "execute_result",
          "data": {
            "text/html": [
              "<div>\n",
              "<style scoped>\n",
              "    .dataframe tbody tr th:only-of-type {\n",
              "        vertical-align: middle;\n",
              "    }\n",
              "\n",
              "    .dataframe tbody tr th {\n",
              "        vertical-align: top;\n",
              "    }\n",
              "\n",
              "    .dataframe thead th {\n",
              "        text-align: right;\n",
              "    }\n",
              "</style>\n",
              "<table border=\"1\" class=\"dataframe\">\n",
              "  <thead>\n",
              "    <tr style=\"text-align: right;\">\n",
              "      <th></th>\n",
              "      <th>Postalcode</th>\n",
              "      <th>Borough</th>\n",
              "      <th>Neighborhood</th>\n",
              "      <th>Latitude</th>\n",
              "      <th>Longitude</th>\n",
              "    </tr>\n",
              "  </thead>\n",
              "  <tbody>\n",
              "    <tr>\n",
              "      <th>0</th>\n",
              "      <td>M1B</td>\n",
              "      <td>Scarborough</td>\n",
              "      <td>Malvern, Rouge</td>\n",
              "      <td>43.806686</td>\n",
              "      <td>-79.194353</td>\n",
              "    </tr>\n",
              "    <tr>\n",
              "      <th>1</th>\n",
              "      <td>M1C</td>\n",
              "      <td>Scarborough</td>\n",
              "      <td>Rouge Hill, Port Union, Highland Creek</td>\n",
              "      <td>43.784535</td>\n",
              "      <td>-79.160497</td>\n",
              "    </tr>\n",
              "    <tr>\n",
              "      <th>2</th>\n",
              "      <td>M1E</td>\n",
              "      <td>Scarborough</td>\n",
              "      <td>Guildwood, Morningside, West Hill</td>\n",
              "      <td>43.763573</td>\n",
              "      <td>-79.188711</td>\n",
              "    </tr>\n",
              "    <tr>\n",
              "      <th>3</th>\n",
              "      <td>M1G</td>\n",
              "      <td>Scarborough</td>\n",
              "      <td>Woburn</td>\n",
              "      <td>43.770992</td>\n",
              "      <td>-79.216917</td>\n",
              "    </tr>\n",
              "    <tr>\n",
              "      <th>4</th>\n",
              "      <td>M1H</td>\n",
              "      <td>Scarborough</td>\n",
              "      <td>Cedarbrae</td>\n",
              "      <td>43.773136</td>\n",
              "      <td>-79.239476</td>\n",
              "    </tr>\n",
              "    <tr>\n",
              "      <th>5</th>\n",
              "      <td>M1J</td>\n",
              "      <td>Scarborough</td>\n",
              "      <td>Scarborough Village</td>\n",
              "      <td>43.744734</td>\n",
              "      <td>-79.239476</td>\n",
              "    </tr>\n",
              "    <tr>\n",
              "      <th>6</th>\n",
              "      <td>M1K</td>\n",
              "      <td>Scarborough</td>\n",
              "      <td>Kennedy Park, Ionview, East Birchmount Park</td>\n",
              "      <td>43.727929</td>\n",
              "      <td>-79.262029</td>\n",
              "    </tr>\n",
              "  </tbody>\n",
              "</table>\n",
              "</div>"
            ],
            "text/plain": [
              "  Postalcode      Borough  ...   Latitude  Longitude\n",
              "0        M1B  Scarborough  ...  43.806686 -79.194353\n",
              "1        M1C  Scarborough  ...  43.784535 -79.160497\n",
              "2        M1E  Scarborough  ...  43.763573 -79.188711\n",
              "3        M1G  Scarborough  ...  43.770992 -79.216917\n",
              "4        M1H  Scarborough  ...  43.773136 -79.239476\n",
              "5        M1J  Scarborough  ...  43.744734 -79.239476\n",
              "6        M1K  Scarborough  ...  43.727929 -79.262029\n",
              "\n",
              "[7 rows x 5 columns]"
            ]
          },
          "metadata": {
            "tags": []
          },
          "execution_count": 14
        }
      ]
    },
    {
      "cell_type": "markdown",
      "metadata": {
        "id": "5ySJtXi9o-gn",
        "colab_type": "text"
      },
      "source": [
        "## Part 3. Explore and cluster the neighborhoods in Toronto.\n"
      ]
    },
    {
      "cell_type": "markdown",
      "metadata": {
        "id": "ZbFsHFjSqXuO",
        "colab_type": "text"
      },
      "source": [
        "Select to work only with Toronto"
      ]
    },
    {
      "cell_type": "code",
      "metadata": {
        "id": "L0Hbm5Q0qfkk",
        "colab_type": "code",
        "colab": {
          "base_uri": "https://localhost:8080/",
          "height": 204
        },
        "outputId": "1aa144ea-c03f-4863-b486-a195b7dc606d"
      },
      "source": [
        "toronto_data=df3[df3['Borough'].str.contains(\"Toronto\")]\n",
        "toronto_data.head()"
      ],
      "execution_count": 15,
      "outputs": [
        {
          "output_type": "execute_result",
          "data": {
            "text/html": [
              "<div>\n",
              "<style scoped>\n",
              "    .dataframe tbody tr th:only-of-type {\n",
              "        vertical-align: middle;\n",
              "    }\n",
              "\n",
              "    .dataframe tbody tr th {\n",
              "        vertical-align: top;\n",
              "    }\n",
              "\n",
              "    .dataframe thead th {\n",
              "        text-align: right;\n",
              "    }\n",
              "</style>\n",
              "<table border=\"1\" class=\"dataframe\">\n",
              "  <thead>\n",
              "    <tr style=\"text-align: right;\">\n",
              "      <th></th>\n",
              "      <th>Postalcode</th>\n",
              "      <th>Borough</th>\n",
              "      <th>Neighborhood</th>\n",
              "      <th>Latitude</th>\n",
              "      <th>Longitude</th>\n",
              "    </tr>\n",
              "  </thead>\n",
              "  <tbody>\n",
              "    <tr>\n",
              "      <th>37</th>\n",
              "      <td>M4E</td>\n",
              "      <td>East Toronto</td>\n",
              "      <td>The Beaches</td>\n",
              "      <td>43.676357</td>\n",
              "      <td>-79.293031</td>\n",
              "    </tr>\n",
              "    <tr>\n",
              "      <th>41</th>\n",
              "      <td>M4K</td>\n",
              "      <td>East Toronto</td>\n",
              "      <td>The Danforth West, Riverdale</td>\n",
              "      <td>43.679557</td>\n",
              "      <td>-79.352188</td>\n",
              "    </tr>\n",
              "    <tr>\n",
              "      <th>42</th>\n",
              "      <td>M4L</td>\n",
              "      <td>East Toronto</td>\n",
              "      <td>India Bazaar, The Beaches West</td>\n",
              "      <td>43.668999</td>\n",
              "      <td>-79.315572</td>\n",
              "    </tr>\n",
              "    <tr>\n",
              "      <th>43</th>\n",
              "      <td>M4M</td>\n",
              "      <td>East Toronto</td>\n",
              "      <td>Studio District</td>\n",
              "      <td>43.659526</td>\n",
              "      <td>-79.340923</td>\n",
              "    </tr>\n",
              "    <tr>\n",
              "      <th>44</th>\n",
              "      <td>M4N</td>\n",
              "      <td>Central Toronto</td>\n",
              "      <td>Lawrence Park</td>\n",
              "      <td>43.728020</td>\n",
              "      <td>-79.388790</td>\n",
              "    </tr>\n",
              "  </tbody>\n",
              "</table>\n",
              "</div>"
            ],
            "text/plain": [
              "   Postalcode          Borough  ...   Latitude  Longitude\n",
              "37        M4E     East Toronto  ...  43.676357 -79.293031\n",
              "41        M4K     East Toronto  ...  43.679557 -79.352188\n",
              "42        M4L     East Toronto  ...  43.668999 -79.315572\n",
              "43        M4M     East Toronto  ...  43.659526 -79.340923\n",
              "44        M4N  Central Toronto  ...  43.728020 -79.388790\n",
              "\n",
              "[5 rows x 5 columns]"
            ]
          },
          "metadata": {
            "tags": []
          },
          "execution_count": 15
        }
      ]
    }
  ]
}